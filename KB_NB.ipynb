{
    "cells": [
        {
            "cell_type": "markdown",
            "metadata": {},
            "source": "# My Jupyter Notebook on IBM Watson Studio"
        },
        {
            "cell_type": "markdown",
            "metadata": {},
            "source": "**Senthilkumar K B**\n\nJoint Director"
        },
        {
            "cell_type": "markdown",
            "metadata": {},
            "source": "*I am interested in data science because it is very useful in cyber security.*"
        },
        {
            "cell_type": "markdown",
            "metadata": {},
            "source": "### The code below concatenates two strings"
        },
        {
            "cell_type": "code",
            "execution_count": 3,
            "metadata": {},
            "outputs": [
                {
                    "name": "stdout",
                    "output_type": "stream",
                    "text": "Hello! World.\n"
                }
            ],
            "source": "a=\"Hello! \"\nb= \"World.\"\nprint (a+b)"
        },
        {
            "cell_type": "markdown",
            "metadata": {},
            "source": "- Apple\n- Orange\n- Banana\n\n1. Car\n2. Bike\n3. Scooter\n\n~~This is a mistake.~~\n"
        },
        {
            "cell_type": "code",
            "execution_count": null,
            "metadata": {},
            "outputs": [],
            "source": ""
        }
    ],
    "metadata": {
        "kernelspec": {
            "display_name": "Python 3.7",
            "language": "python",
            "name": "python3"
        },
        "language_info": {
            "codemirror_mode": {
                "name": "ipython",
                "version": 3
            },
            "file_extension": ".py",
            "mimetype": "text/x-python",
            "name": "python",
            "nbconvert_exporter": "python",
            "pygments_lexer": "ipython3",
            "version": "3.7.11"
        }
    },
    "nbformat": 4,
    "nbformat_minor": 1
}